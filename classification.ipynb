{
 "cells": [
  {
   "cell_type": "markdown",
   "metadata": {},
   "source": [
    "### Manage Imports"
   ]
  },
  {
   "cell_type": "code",
   "execution_count": null,
   "metadata": {},
   "outputs": [],
   "source": [
    "import keras\n",
    "%matplotlib inline\n",
    "from matplotlib import pyplot as plt\n",
    "import os\n",
    "import cv2\n",
    "import re\n",
    "import numpy as np\n",
    "from sklearn import svm, metrics\n",
    "from keras.preprocessing.image import img_to_array, load_img\n",
    "from keras.applications import VGG16\n",
    "from keras import layers, models, optimizers\n",
    "keras.__version__"
   ]
  },
  {
   "cell_type": "markdown",
   "metadata": {},
   "source": [
    "### Globals"
   ]
  },
  {
   "cell_type": "code",
   "execution_count": null,
   "metadata": {},
   "outputs": [],
   "source": [
    "users = [\"alex\", \"ben\", \"miao\", \"natasha\", \"nick\", \"sarah\", \"sean\", \"spencer\", \"tim\", \"yijun\"]\n",
    "mats = [\"cloth\", \"concrete\", \"door\", \"drywall\", \"laminant\", \"whiteboard\"]\n",
    "pressures = [\"hard\", \"soft\"]\n",
    "#hello\n",
    "\n",
    "AUG_FACTOR = 8\n",
    "IMAGE_SIZE = 128\n",
    "FRAMES_PER_VID = 8\n",
    "EPOCHS = 50"
   ]
  },
  {
   "cell_type": "markdown",
   "metadata": {},
   "source": [
    "#### Optionally Remove Hand:"
   ]
  },
  {
   "cell_type": "code",
   "execution_count": null,
   "metadata": {},
   "outputs": [],
   "source": [
    "remove_hand = True\n",
    "if remove_hand:\n",
    "    frames = \"swipe_frames\"\n",
    "else:\n",
    "    frames = \"frames\""
   ]
  },
  {
   "cell_type": "markdown",
   "metadata": {},
   "source": [
    "# Single Frame Classification"
   ]
  },
  {
   "cell_type": "markdown",
   "metadata": {},
   "source": [
    "### Load Data"
   ]
  },
  {
   "cell_type": "code",
   "execution_count": null,
   "metadata": {},
   "outputs": [],
   "source": [
    "# perform leave-one-out classification for each user in turn\n",
    "#for user in users:\n",
    "for user in [\"alex\"]:\n",
    "    print \"User:\", user\n",
    "    \n",
    "    # training data consists of swipes from all other users (for mats of interest)\n",
    "    print \"\\tFinding training images...\"\n",
    "    files = []\n",
    "    training_users = [u for u in users if u != user]\n",
    "    for train_user in training_users:\n",
    "        for mat in mats:\n",
    "            for pres in pressures:\n",
    "                folder = \"data/\"+train_user+\"/\"+frames+\"/\"+mat+\"/\"+pres+\"/\"\n",
    "                files.extend([folder+f for f in os.listdir(folder)])\n",
    "    files.sort() # only keeps video frames in order if < 10 frames per video\n",
    "    print \"\\tTraining images found:\", len(files)\n",
    "    \n",
    "    # create single arrays to store data (use 224x224 for VGGNet)\n",
    "    X_train = np.ndarray(shape=(len(files)*AUG_FACTOR, IMAGE_SIZE, IMAGE_SIZE), dtype=np.float32)\n",
    "    y_train = np.ndarray(shape=(len(files)*AUG_FACTOR, 1), dtype=np.float32)\n",
    "\n",
    "    # load in training data from images into normalized array\n",
    "    print \"\\tLoading and augmenting training images...\"\n",
    "    n = 0\n",
    "    for f in files:\n",
    "        # read in, normalize, resize for VGGNet\n",
    "        x = cv2.resize(cv2.imread(f, cv2.IMREAD_GRAYSCALE), (IMAGE_SIZE, IMAGE_SIZE))\n",
    "        X_train[n] = x / 255.0\n",
    "\n",
    "        # perform data augmentation\n",
    "        X_train[n+1] = np.fliplr(X_train[n])\n",
    "        X_train[n+2] = np.rot90(X_train[n])\n",
    "        X_train[n+3] = np.fliplr(X_train[n+2])\n",
    "        X_train[n+4] = np.rot90(X_train[n+2])\n",
    "        X_train[n+5] = np.fliplr(X_train[n+4])\n",
    "        X_train[n+6] = np.rot90(X_train[n+4])\n",
    "        X_train[n+7] = np.fliplr(X_train[n+6])\n",
    "\n",
    "        # assign labels\n",
    "        if \"/hard/\" in f:\n",
    "            y_train[n:n+AUG_FACTOR] = np.ones((AUG_FACTOR,1))\n",
    "        else:\n",
    "            y_train[n:n+AUG_FACTOR] = np.zeros((AUG_FACTOR,1))\n",
    "        n += AUG_FACTOR\n",
    "    print \"\\tAll\", n, \"training images and labels stored successfully!\"\n",
    "    \n",
    "    # find all test data\n",
    "    print \"\\tFinding test images...\"\n",
    "    test_files = []\n",
    "    for mat in mats:\n",
    "        for pres in pressures:\n",
    "            folder = \"data/\"+user+\"/\"+frames+\"/\"+mat+\"/\"+pres+\"/\"\n",
    "            test_files.extend([folder+f for f in os.listdir(folder)])\n",
    "    test_files.sort() # only keeps video frames in order if < 10 frames per video\n",
    "    print \"\\tTest images found:\", len(test_files)\n",
    "    \n",
    "    # load in test data\n",
    "    X_test = np.ndarray(shape=(len(test_files), IMAGE_SIZE, IMAGE_SIZE), dtype=np.float32)\n",
    "    y_test = np.ndarray(shape=(len(test_files), 1), dtype=np.float32)\n",
    "    print \"\\tLoading test images...\"\n",
    "    n2 = 0\n",
    "    for f in test_files:\n",
    "        x = cv2.resize(cv2.imread(f, cv2.IMREAD_GRAYSCALE), (IMAGE_SIZE, IMAGE_SIZE))\n",
    "        X_test[n2] = x / 255.0\n",
    "        y_test[n2] = float(\"/hard/\" in f)\n",
    "        n2 += 1\n",
    "    print \"\\tAll\", n2, \"test images and labels stored successfully!\""
   ]
  },
  {
   "cell_type": "code",
   "execution_count": null,
   "metadata": {},
   "outputs": [],
   "source": [
    "fig = plt.figure(figsize=(8,4)) # Notice the equal aspect ratio\n",
    "ax = [fig.add_subplot(2,4,i+1) for i in range(8)]\n",
    "\n",
    "for i in range(8):\n",
    "    plt.subplot(2, 4, i+1)\n",
    "    plt.imshow(X_train[i], cmap='gray')\n",
    "\n",
    "for a in ax:\n",
    "    a.set_xticklabels([])\n",
    "    a.set_yticklabels([])\n",
    "    a.set_aspect('equal')\n",
    "\n",
    "fig.subplots_adjust(wspace=0, hspace=0)"
   ]
  },
  {
   "cell_type": "markdown",
   "metadata": {},
   "source": [
    "## Shallow Single-Frame CNN (from scratch)"
   ]
  },
  {
   "cell_type": "code",
   "execution_count": null,
   "metadata": {},
   "outputs": [],
   "source": [
    "model = models.Sequential()\n",
    "model.add(layers.Conv2D(32, (5,5), activation='relu', padding='same', input_shape=(IMAGE_SIZE,IMAGE_SIZE,1)))\n",
    "model.add(layers.MaxPooling2D((2,2)))\n",
    "model.add(layers.Dropout(0.25))\n",
    "model.add(layers.Conv2D(32, (5,5), activation='relu', padding='same'))\n",
    "#model.add(layers.MaxPooling2D((2,2)))\n",
    "#model.add(layers.Dropout(0.25))\n",
    "#model.add(layers.Conv2D(32, (5,5), activation='relu', padding='same'))\n",
    "model.add(layers.MaxPooling2D((2,2)))\n",
    "\n",
    "# fully connected\n",
    "model.add(layers.Flatten())\n",
    "model.add(layers.Dense(128, activation='relu'))\n",
    "model.add(layers.Dropout(0.5))\n",
    "model.add(layers.Dense(1, activation='sigmoid'))\n",
    "model.summary()"
   ]
  },
  {
   "cell_type": "code",
   "execution_count": null,
   "metadata": {},
   "outputs": [],
   "source": [
    "model.compile(loss='binary_crossentropy',\n",
    "              optimizer='sgd',\n",
    "              metrics=['accuracy'])\n",
    "\n",
    "X_train = np.reshape(X_train, (X_train.shape[0],IMAGE_SIZE,IMAGE_SIZE,1))\n",
    "history = model.fit(X_train, y_train,\n",
    "          validation_split=0.2,\n",
    "          batch_size=100,\n",
    "          epochs=EPOCHS,\n",
    "          verbose=1\n",
    "          )"
   ]
  },
  {
   "cell_type": "code",
   "execution_count": null,
   "metadata": {},
   "outputs": [],
   "source": [
    "X_test = np.reshape(X_test, (X_test.shape[0],IMAGE_SIZE,IMAGE_SIZE,1))\n",
    "test_loss, test_acc = model.evaluate(X_test, y_test)\n",
    "\n",
    "print('Single Frame Accuracy:')\n",
    "print('Test loss:', test_loss)\n",
    "print('Test accuracy:', test_acc)"
   ]
  },
  {
   "cell_type": "code",
   "execution_count": null,
   "metadata": {},
   "outputs": [],
   "source": [
    "plt.plot(history.history['acc'])\n",
    "plt.plot(history.history['val_acc'])\n",
    "plt.title('Single-Frame Shallow CNN Accuracy')\n",
    "plt.ylabel('accuracy')\n",
    "plt.xlabel('epoch')\n",
    "plt.legend(['training', 'validation'], loc='upper left')\n",
    "plt.show()"
   ]
  },
  {
   "cell_type": "code",
   "execution_count": null,
   "metadata": {},
   "outputs": [],
   "source": [
    "# create feature arrays from earlier per-frame predictions\n",
    "y_train_frame_pred = model.predict(X_train)\n",
    "X_train_svm = np.reshape(np.rollaxis(np.reshape(\n",
    "    y_train_frame_pred, (len(files)//FRAMES_PER_VID,FRAMES_PER_VID,AUG_FACTOR)),1,3), (len(files),FRAMES_PER_VID))\n",
    "y_train_svm = y_train[::FRAMES_PER_VID]\n",
    "\n",
    "# same for test set\n",
    "y_test_frame_pred = model.predict(X_test)\n",
    "X_test_svm = np.reshape(y_test_frame_pred, (len(test_files)//FRAMES_PER_VID, FRAMES_PER_VID))\n",
    "y_test_svm = y_test[::FRAMES_PER_VID]"
   ]
  },
  {
   "cell_type": "code",
   "execution_count": null,
   "metadata": {},
   "outputs": [],
   "source": [
    "# take average prediction, round at end\n",
    "simple_y_pred = np.round(np.sum(X_test_svm, axis=1)/FRAMES_PER_VID)\n",
    "avg_acc = metrics.accuracy_score(y_test_svm, simple_y_pred)\n",
    "\n",
    "# train SVM to make prediction\n",
    "clf = svm.SVC()\n",
    "clf.fit(X_train_svm, y_train_svm)\n",
    "svm_acc = clf.score(X_test_svm, y_test_svm)\n",
    "\n",
    "print('Per-Video AVG Accuracy:', avg_acc)\n",
    "print('Per-Video SVM accuracy:', svm_acc)"
   ]
  },
  {
   "cell_type": "markdown",
   "metadata": {},
   "source": [
    "## Deep Single-Frame CNN (from scratch)"
   ]
  },
  {
   "cell_type": "code",
   "execution_count": null,
   "metadata": {},
   "outputs": [],
   "source": [
    "model = models.Sequential()\n",
    "model.add(layers.Conv2D(16, (3,3), activation='relu', padding='same', input_shape=(IMAGE_SIZE,IMAGE_SIZE, 1)))\n",
    "model.add(layers.Conv2D(16, (3,3), activation='relu', padding='same'))\n",
    "model.add(layers.MaxPooling2D((2, 2)))\n",
    "model.add(layers.Dropout(0.25))\n",
    "model.add(layers.Conv2D(32, (3,3), activation='relu', padding='same'))\n",
    "model.add(layers.Conv2D(32, (3,3), activation='relu', padding='same'))\n",
    "model.add(layers.MaxPooling2D((2, 2)))\n",
    "model.add(layers.Dropout(0.25))\n",
    "model.add(layers.Conv2D(64, (3,3), activation='relu', padding='same'))\n",
    "model.add(layers.Conv2D(64, (3,3), activation='relu', padding='same'))\n",
    "model.add(layers.MaxPooling2D((2, 2)))\n",
    "model.add(layers.Dropout(0.25))\n",
    "model.add(layers.Conv2D(128, (3,3), activation='relu', padding='same'))\n",
    "model.add(layers.Conv2D(128, (3,3), activation='relu', padding='same'))\n",
    "model.add(layers.MaxPooling2D((2, 2)))\n",
    "model.add(layers.Dropout(0.25))\n",
    "model.add(layers.Conv2D(128, (3,3), activation='relu', padding='same'))\n",
    "model.add(layers.Conv2D(128, (3,3), activation='relu', padding='same'))\n",
    "model.add(layers.MaxPooling2D((2, 2)))\n",
    "\n",
    "# fully connected\n",
    "model.add(layers.Flatten())\n",
    "model.add(layers.Dense(128, activation='relu'))\n",
    "model.add(layers.Dropout(0.5))\n",
    "model.add(layers.Dense(1, activation='sigmoid'))\n",
    "model.summary()"
   ]
  },
  {
   "cell_type": "code",
   "execution_count": null,
   "metadata": {},
   "outputs": [],
   "source": [
    "model.compile(loss='binary_crossentropy',\n",
    "              optimizer='sgd',\n",
    "              metrics=['accuracy'])\n",
    "\n",
    "X_train = np.reshape(X_train, (X_train.shape[0],IMAGE_SIZE,IMAGE_SIZE,1))\n",
    "history = model.fit(X_train, y_train,\n",
    "          validation_split=0.2,\n",
    "          batch_size=100,\n",
    "          epochs=EPOCHS,\n",
    "          verbose=1\n",
    "          )"
   ]
  },
  {
   "cell_type": "code",
   "execution_count": null,
   "metadata": {},
   "outputs": [],
   "source": [
    "X_test = np.reshape(X_test, (X_test.shape[0],IMAGE_SIZE,IMAGE_SIZE,1))\n",
    "test_loss, test_acc = model.evaluate(X_test, y_test)\n",
    "\n",
    "print('Test loss:', test_loss)\n",
    "print('Test accuracy:', test_acc)"
   ]
  },
  {
   "cell_type": "code",
   "execution_count": null,
   "metadata": {},
   "outputs": [],
   "source": [
    "plt.plot(history.history['acc'])\n",
    "plt.plot(history.history['val_acc'])\n",
    "plt.title('Single-Frame Deep CNN Accuracy')\n",
    "plt.ylabel('accuracy')\n",
    "plt.xlabel('epoch')\n",
    "plt.legend(['train', 'test'], loc='upper left')\n",
    "plt.show()"
   ]
  },
  {
   "cell_type": "markdown",
   "metadata": {},
   "source": [
    "## Single-Frame CNN pre-training on VGG"
   ]
  },
  {
   "cell_type": "code",
   "execution_count": null,
   "metadata": {},
   "outputs": [],
   "source": [
    "vgg = VGG16(weights='imagenet',\n",
    "           include_top=False,\n",
    "           input_shape=(224,224,3))\n",
    "\n",
    "# feed each image through VGG and obtain 7*7*512 features\n",
    "X_train_feat = np.zeros(shape=(X_train.shape[0],7,7,512))\n",
    "print 'Total training images:', X_train.shape[0]\n",
    "for i in range(X_train.shape[0]):\n",
    "    # subtract ImageNet means before passing to ImageNet classifier\n",
    "    X_trainR = X_train[i]*255.0-123.68\n",
    "    X_trainG = X_train[i]*255.0-116.78\n",
    "    X_trainB = X_train[i]*255.0-103.94\n",
    "    X_train_feat[i] = vgg.predict(np.stack((X_trainR,X_trainG,X_trainB), axis=-1).reshape((1,224,224,3)))\n",
    "    if i % 5000 == 0:\n",
    "        print \"i =\", i\n",
    "X_train_feat = np.reshape(X_train_feat, (X_train.shape[0], 7*7*512))"
   ]
  },
  {
   "cell_type": "code",
   "execution_count": null,
   "metadata": {},
   "outputs": [],
   "source": [
    "# fully connected\n",
    "model = models.Sequential()\n",
    "model.add(layers.Dense(256, activation='relu', input_dim=7*7*512))\n",
    "model.add(layers.Dropout(0.9))\n",
    "model.add(layers.Dense(1, activation='sigmoid'))\n",
    "\n",
    "sgd = optimizers.SGD(lr=1e-3, decay=1e-6, momentum=0.9, nesterov=True)\n",
    "model.compile(loss='binary_crossentropy',\n",
    "              optimizer=sgd,\n",
    "              metrics=['accuracy'])\n",
    "\n",
    "history = model.fit(X_train_feat, y_train,\n",
    "          validation_split=0.2,\n",
    "          batch_size=100,\n",
    "          epochs=EPOCHS,\n",
    "          verbose=1,\n",
    "          shuffle=True\n",
    "          )"
   ]
  },
  {
   "cell_type": "code",
   "execution_count": null,
   "metadata": {},
   "outputs": [],
   "source": [
    "plt.plot(history.history['acc'])\n",
    "plt.plot(history.history['val_acc'])\n",
    "plt.title('Single-Frame VGG-Pretrained Model Accuracy')\n",
    "plt.ylabel('accuracy')\n",
    "plt.xlabel('epoch')\n",
    "plt.legend(['train', 'test'], loc='upper left')\n",
    "plt.show()"
   ]
  },
  {
   "cell_type": "code",
   "execution_count": null,
   "metadata": {},
   "outputs": [],
   "source": [
    "# calculate features for test data\n",
    "X_test_feat = np.zeros(shape=(X_test.shape[0],7,7,512))\n",
    "for i in range(X_test.shape[0]):\n",
    "    X_testR = X_test[i]*255.0-123.68\n",
    "    X_testG = X_test[i]*255.0-116.78\n",
    "    X_testB = X_test[i]*255.0-103.94\n",
    "    X_test_feat[i] = vgg.predict(np.stack((X_testR,X_testG,X_testB), axis=-1).reshape(1,224,224,3))\n",
    "X_test_feat = np.reshape(X_test_feat, (X_test.shape[0], 7*7*512))\n",
    "\n",
    "test_loss, test_acc = model.evaluate(X_test_feat, y_test)\n",
    "\n",
    "print('Test loss:', test_loss)\n",
    "print('Test accuracy:', test_acc)"
   ]
  },
  {
   "cell_type": "code",
   "execution_count": null,
   "metadata": {},
   "outputs": [],
   "source": [
    "# take average prediction, round at end\n",
    "frame_pred = np.reshape(model.predict(X_test_feat), (len(test_files)//FRAMES_PER_VID, FRAMES_PER_VID))\n",
    "simple_y_pred = np.round(np.sum(frame_pred, axis=1)/FRAMES_PER_VID)\n",
    "avg_acc = metrics.accuracy_score(y_test[::FRAMES_PER_VID], simple_y_pred)\n",
    "\n",
    "print('Per-Video AVG Accuracy:', avg_acc)"
   ]
  },
  {
   "cell_type": "markdown",
   "metadata": {},
   "source": [
    "# Multi-Frame Classification"
   ]
  },
  {
   "cell_type": "markdown",
   "metadata": {},
   "source": [
    "## Loading Data"
   ]
  },
  {
   "cell_type": "code",
   "execution_count": null,
   "metadata": {},
   "outputs": [],
   "source": [
    "# perform leave-one-out classification for each user in turn\n",
    "#for user in users:\n",
    "for user in [\"alex\"]:\n",
    "    print \"User:\", user\n",
    "    \n",
    "    # training data consists of swipes from all other users (for mats of interest)\n",
    "    print \"\\tFinding training videos...\"\n",
    "    files = []\n",
    "    training_users = [u for u in users if u != user]\n",
    "    for train_user in training_users:\n",
    "        for mat in mats:\n",
    "            for pres in pressures:\n",
    "                folder = \"data/\"+train_user+\"/\"+frames+\"/\"+mat+\"/\"+pres+\"/\"\n",
    "                files.extend([folder+f for f in os.listdir(folder)])\n",
    "    files.sort() # only keeps video frames in order if < 10 frames per video\n",
    "    print \"\\tTraining videos found:\", len(files)//FRAMES_PER_VID\n",
    "    \n",
    "    # create single arrays to store data (use 224x224 for VGGNet)\n",
    "    X_train = np.ndarray(shape=(len(files)*AUG_FACTOR/FRAMES_PER_VID, FRAMES_PER_VID, IMAGE_SIZE, IMAGE_SIZE, 1), dtype=np.float32)\n",
    "    y_train = np.ndarray(shape=(len(files)*AUG_FACTOR/FRAMES_PER_VID, 1), dtype=np.float32)\n",
    "\n",
    "    # load in training data from images into normalized array\n",
    "    print \"\\tLoading and augmenting training videos...\"\n",
    "    n = 0\n",
    "    for i, filename in enumerate(files):\n",
    "        # only act once for each video (filenames were sorted earlier)\n",
    "        if i % FRAMES_PER_VID != 0:\n",
    "            continue\n",
    "        \n",
    "        # extract section of filename which determines swipe\n",
    "        match = re.match(\"([a-z/_]+[0-9]+_)([0-9]+)(.jpg)\", filename, re.I)\n",
    "        if match:\n",
    "            swipe = match.groups()[0]\n",
    "            frame = int(match.groups()[1])\n",
    "            ext = match.groups()[2]\n",
    "          \n",
    "            # read in all other video frames from that swipe\n",
    "            for f in range(FRAMES_PER_VID):\n",
    "                x = cv2.resize(cv2.imread(swipe+str(f+1)+ext, cv2.IMREAD_GRAYSCALE), (IMAGE_SIZE,IMAGE_SIZE))\n",
    "                X_train[i//FRAMES_PER_VID,f,:,:,0] = x / 255.0\n",
    "\n",
    "                # perform data augmentation\n",
    "                X_train[n+1,f,:,:,0] = np.fliplr(X_train[n,f,:,:,0])\n",
    "                X_train[n+2,f,:,:,0] = np.rot90(X_train[n,f,:,:,0])\n",
    "                X_train[n+3,f,:,:,0] = np.fliplr(X_train[n+2,f,:,:,0])\n",
    "                X_train[n+4,f,:,:,0] = np.rot90(X_train[n+2,f,:,:,0])\n",
    "                X_train[n+5,f,:,:,0] = np.fliplr(X_train[n+4,f,:,:,0])\n",
    "                X_train[n+6,f,:,:,0] = np.rot90(X_train[n+4,f,:,:,0])\n",
    "                X_train[n+7,f,:,:,0] = np.fliplr(X_train[n+6,f,:,:,0])\n",
    "\n",
    "            # assign labels\n",
    "            if \"/hard/\" in swipe:\n",
    "                y_train[n:n+AUG_FACTOR] = np.ones((AUG_FACTOR,1))\n",
    "            else:\n",
    "                y_train[n:n+AUG_FACTOR] = np.zeros((AUG_FACTOR,1))\n",
    "            n += AUG_FACTOR\n",
    "    print \"\\tAll\", n//FRAMES_PER_VID, \"training videos and labels stored successfully!\"\n",
    "    \n",
    "    # find all test data\n",
    "    print \"\\tFinding test videos...\"\n",
    "    test_files = []\n",
    "    for mat in mats:\n",
    "        for pres in pressures:\n",
    "            folder = \"data/\"+user+\"/\"+frames+\"/\"+mat+\"/\"+pres+\"/\"\n",
    "            test_files.extend([folder+f for f in os.listdir(folder)])\n",
    "    test_files.sort() # only keeps video frames in order if < 10 frames per video\n",
    "    print \"\\tTest videos found:\", len(test_files)//FRAMES_PER_VID\n",
    "    \n",
    "    # create arrays to store test data\n",
    "    X_test = np.ndarray(shape=(len(test_files)*AUG_FACTOR/FRAMES_PER_VID, FRAMES_PER_VID, IMAGE_SIZE, IMAGE_SIZE, 1), dtype=np.float32)\n",
    "    y_test = np.ndarray(shape=(len(test_files)*AUG_FACTOR/FRAMES_PER_VID, 1), dtype=np.float32)\n",
    "\n",
    "    print \"\\tLoading test videos...\"\n",
    "    for i, filename in enumerate(test_files):\n",
    "        # only act once for each video (filenames were sorted earlier)\n",
    "        if i % FRAMES_PER_VID != 0:\n",
    "            continue\n",
    "        \n",
    "        # extract section of filename which determines swipe\n",
    "        match = re.match(\"([a-z/_]+[0-9]+_)([0-9]+)(.jpg)\", filename, re.I)\n",
    "        if match:\n",
    "            swipe = match.groups()[0]\n",
    "            frame = int(match.groups()[1])\n",
    "            ext = match.groups()[2]\n",
    "          \n",
    "            # read in all other video frames from that swipe\n",
    "            for f in range(FRAMES_PER_VID):\n",
    "                x = cv2.resize(cv2.imread(swipe+str(f+1)+ext, cv2.IMREAD_GRAYSCALE), (IMAGE_SIZE,IMAGE_SIZE))\n",
    "                X_test[i//FRAMES_PER_VID,f,:,:,0] = x / 255.0\n",
    "            y_test[i//FRAMES_PER_VID] = float(\"/hard/\" in swipe)\n",
    "    print \"\\tAll\", i//FRAMES_PER_VID, \"test images and labels stored successfully!\""
   ]
  },
  {
   "cell_type": "code",
   "execution_count": null,
   "metadata": {},
   "outputs": [],
   "source": [
    "fig = plt.figure(figsize=(8,4))\n",
    "ax = [fig.add_subplot(2,4,j+1) for j in range(8)]\n",
    "for j in range(8):\n",
    "    plt.subplot(2, 4, j+1)\n",
    "    plt.imshow(X_train[2,j,:,:,0], cmap='gray', vmin=0, vmax=1)\n",
    "for a in ax:\n",
    "    a.set_xticklabels([])\n",
    "    a.set_yticklabels([])\n",
    "    a.set_aspect('equal')\n",
    "fig.subplots_adjust(wspace=0, hspace=0)"
   ]
  },
  {
   "cell_type": "markdown",
   "metadata": {},
   "source": [
    "## Calculate Optical Flow"
   ]
  },
  {
   "cell_type": "markdown",
   "metadata": {},
   "source": [
    "Generate visual of optical flow over time"
   ]
  },
  {
   "cell_type": "code",
   "execution_count": null,
   "metadata": {},
   "outputs": [],
   "source": [
    "S = 2\n",
    "fig = plt.figure(figsize=(8,4))\n",
    "ax = [fig.add_subplot(2,4,j+1) for j in range(8)]\n",
    "plt.subplot(2,4,1)\n",
    "plt.imshow(np.ones((IMAGE_SIZE,IMAGE_SIZE,3))*-1)\n",
    "for j in range(1,8):\n",
    "    plt.subplot(2, 4, j+1)\n",
    "    hsv = np.uint8(np.zeros((X_train.shape[2], X_train.shape[3], 3)))\n",
    "    hsv[...,1] = 255\n",
    "    prv = X_train[S,j-1,:,:,0]\n",
    "    nxt = X_train[S,j,:,:,0]\n",
    "    flow = cv2.calcOpticalFlowFarneback(prv, nxt, None, 0.5, 3, 15, 3, 5, 1.2, 0)\n",
    "    mag, ang = cv2.cartToPolar(flow[...,0], flow[...,1])\n",
    "    hsv[...,0] = cv2.normalize(ang,None,0,255,cv2.NORM_MINMAX)\n",
    "    hsv[...,2] = cv2.normalize(mag,None,0,255,cv2.NORM_MINMAX)\n",
    "    bgr = cv2.cvtColor(hsv, cv2.COLOR_HSV2BGR)\n",
    "    plt.imshow(bgr)\n",
    "    \n",
    "for a in ax:\n",
    "    a.set_xticklabels([])\n",
    "    a.set_yticklabels([])\n",
    "    a.set_aspect('equal')\n",
    "fig.subplots_adjust(wspace=0, hspace=0)"
   ]
  },
  {
   "cell_type": "code",
   "execution_count": null,
   "metadata": {},
   "outputs": [],
   "source": [
    "X_train_flowx = np.ndarray(shape=(X_train.shape[0], FRAMES_PER_VID, IMAGE_SIZE, IMAGE_SIZE, 1), dtype=np.float32)\n",
    "X_train_flowy = np.ndarray(shape=(X_train.shape[0], FRAMES_PER_VID, IMAGE_SIZE, IMAGE_SIZE, 1), dtype=np.float32)\n",
    "\n",
    "# calculate optical flow for each training example\n",
    "print \"Calculating optical flow for training videos...\"\n",
    "for i in range(X_train.shape[0]):\n",
    "    for j in range(1,FRAMES_PER_VID):\n",
    "        prv = X_train[i,j-1,:,:,0]\n",
    "        nxt = X_train[i,j,:,:,0]\n",
    "        flow = cv2.calcOpticalFlowFarneback(prv, nxt, None, 0.5, 3, 15, 3, 5, 1.2, 0)\n",
    "        X_train_flowx[i,j,:,:,0] = flow[:,:,0]\n",
    "        X_train_flowy[i,j,:,:,0] = flow[:,:,1]\n",
    "        \n",
    "# to keep dims same, set flow result for first frame same as second\n",
    "X_train_flowx[:,0,:,:,0] = X_train_flowx[:,1,:,:,0]\n",
    "X_train_flowy[:,0,:,:,0] = X_train_flowy[:,1,:,:,0]\n",
    "print \"Optical flow calculated for all training videos!\"\n",
    "\n",
    "\n",
    "X_test_flowx = np.ndarray(shape=(X_test.shape[0], FRAMES_PER_VID, IMAGE_SIZE, IMAGE_SIZE, 1), dtype=np.float32)\n",
    "X_test_flowy = np.ndarray(shape=(X_test.shape[0], FRAMES_PER_VID, IMAGE_SIZE, IMAGE_SIZE, 1), dtype=np.float32)\n",
    "\n",
    "# calculate optical flow for each test example\n",
    "print \"Calculating optical flow for test videos...\"\n",
    "for i in range(X_test.shape[0]):\n",
    "    for j in range(1,FRAMES_PER_VID):\n",
    "        prv = X_test[i,j-1,:,:,0]\n",
    "        nxt = X_test[i,j,:,:,0]\n",
    "        flow = cv2.calcOpticalFlowFarneback(prv, nxt, None, 0.5, 3, 15, 3, 5, 1.2, 0)\n",
    "        X_test_flowx[i,j,:,:,0] = flow[:,:,0]\n",
    "        X_test_flowy[i,j,:,:,0] = flow[:,:,1]\n",
    "        \n",
    "# to keep dims same, set flow result for first frame same as second\n",
    "X_test_flowx[:,0,:,:,0] = X_test_flowx[:,1,:,:,0]\n",
    "X_test_flowy[:,0,:,:,0] = X_test_flowy[:,1,:,:,0]\n",
    "print \"Optical flow calculated for all test videos!\""
   ]
  },
  {
   "cell_type": "markdown",
   "metadata": {},
   "source": [
    "## Calculate Fade"
   ]
  },
  {
   "cell_type": "code",
   "execution_count": null,
   "metadata": {},
   "outputs": [],
   "source": [
    "S = 1\n",
    "fig = plt.figure(figsize=(8,4))\n",
    "ax = [fig.add_subplot(2,4,j+1) for j in range(8)]\n",
    "plt.subplot(2,4,1)\n",
    "plt.imshow(np.ones((IMAGE_SIZE,IMAGE_SIZE,3))*-1)\n",
    "for j in range(1,8):\n",
    "    plt.subplot(2, 4, j+1)\n",
    "    prv = X_train[S,j-1,:,:,0]\n",
    "    nxt = X_train[S,j,:,:,0]\n",
    "    diff = prv - nxt\n",
    "    diff[diff<=0.01] = -1 # ignore regions that increased in intensity\n",
    "    diff[diff>0.5] = -1 # ignore finger -> no finger pixel transition\n",
    "    plt.imshow(diff, cmap='gray', vmin=-1, vmax=1)\n",
    "    \n",
    "for a in ax:\n",
    "    a.set_xticklabels([])\n",
    "    a.set_yticklabels([])\n",
    "    a.set_aspect('equal')\n",
    "fig.subplots_adjust(wspace=0, hspace=0)"
   ]
  },
  {
   "cell_type": "markdown",
   "metadata": {},
   "source": [
    "## Multi-Frame 3D Convolution"
   ]
  },
  {
   "cell_type": "markdown",
   "metadata": {},
   "source": [
    "Model borrowed from C3D paper, https://gist.github.com/albertomontesg/d8b21a179c1e6cca0480ebdf292c34d2"
   ]
  },
  {
   "cell_type": "code",
   "execution_count": null,
   "metadata": {},
   "outputs": [],
   "source": [
    "model = models.Sequential()\n",
    "# 0th layer group\n",
    "model.add(layers.Conv3D(32, (3,3,3), activation='relu', padding='same', \n",
    "                        input_shape=(8,IMAGE_SIZE,IMAGE_SIZE,1)))\n",
    "model.add(layers.MaxPooling3D(pool_size=(2,2,2), strides=(1,2,2), ))\n",
    "# 1st layer group\n",
    "model.add(layers.Conv3D(32, (3,3,3), activation='relu', padding='same'))\n",
    "model.add(layers.MaxPooling3D(pool_size=(2,2,2), strides=(2,2,2)))\n",
    "# 2nd layer group\n",
    "model.add(layers.Conv3D(32, (3,3,3), activation='relu', padding='same'))\n",
    "model.add(layers.MaxPooling3D(pool_size=(2,2,2), strides=(2,2,2)))\n",
    "# 3rd layer group\n",
    "#model.add(layers.Conv3D(32, (3,3,3), activation='relu', padding='same'))\n",
    "#model.add(layers.Conv3D(32, (3,3,3), activation='relu', padding='same'))\n",
    "#model.add(layers.MaxPooling3D(pool_size=(1,2,2), strides=(1,2,2)))\n",
    "# 4th layer group\n",
    "#model.add(layers.Conv3D(64, (3,3,3), activation='relu', padding='same'))\n",
    "#model.add(layers.Conv3D(64, (3,3,3), activation='relu', padding='same'))\n",
    "#model.add(layers.MaxPooling3D(pool_size=(2,2,2), strides=(2,2,2)))\n",
    "# 5th layer group\n",
    "#model.add(layers.Conv3D(64, (3,3,3), activation='relu', padding='same'))\n",
    "#model.add(layers.Conv3D(64, (3,3,3), activation='relu', padding='same'))\n",
    "#model.add(layers.MaxPooling3D(pool_size=(1,2,2), strides=(1,2,2)))\n",
    "\n",
    "# fully connected\n",
    "model.add(layers.Flatten())\n",
    "model.add(layers.Dense(128, activation='relu'))\n",
    "model.add(layers.Dropout(0.5))\n",
    "model.add(layers.Dense(128, activation='relu'))\n",
    "model.add(layers.Dropout(0.5))\n",
    "model.add(layers.Dense(1, activation='sigmoid'))\n",
    "model.summary()"
   ]
  },
  {
   "cell_type": "code",
   "execution_count": null,
   "metadata": {},
   "outputs": [],
   "source": [
    "model.compile(loss='binary_crossentropy',\n",
    "              optimizer='sgd',\n",
    "              metrics=['accuracy'])\n",
    "\n",
    "history = model.fit(X_train, y_train,\n",
    "          validation_split=0.2,\n",
    "          batch_size=100,\n",
    "          epochs=EPOCHS,\n",
    "          verbose=1\n",
    "          )"
   ]
  },
  {
   "cell_type": "markdown",
   "metadata": {},
   "source": [
    "## Testing Subsampling"
   ]
  },
  {
   "cell_type": "code",
   "execution_count": null,
   "metadata": {},
   "outputs": [],
   "source": [
    "S = 2\n",
    "STEP = 4\n",
    "fig = plt.figure(figsize=(8,4))\n",
    "ax = [fig.add_subplot(2,4,j+1) for j in range(8)]\n",
    "ss = np.zeros((8,IMAGE_SIZE//STEP,IMAGE_SIZE//STEP))\n",
    "for f in range(8):\n",
    "    for i in range(0,IMAGE_SIZE,STEP):\n",
    "        for j in range(0,IMAGE_SIZE,STEP):\n",
    "            ss[f,i//STEP,j//STEP] = np.sum(X_train[S,f,i:i+STEP,j:j+STEP])\n",
    "            \n",
    "for j in range(8):\n",
    "    plt.subplot(2, 4, j+1)\n",
    "    plt.imshow(ss[j], cmap='gray', vmin=-STEP*STEP, vmax=STEP*STEP)\n",
    "for a in ax:\n",
    "    a.set_xticklabels([])\n",
    "    a.set_yticklabels([])\n",
    "    a.set_aspect('equal')\n",
    "fig.subplots_adjust(wspace=0, hspace=0)"
   ]
  },
  {
   "cell_type": "code",
   "execution_count": null,
   "metadata": {},
   "outputs": [],
   "source": [
    "256/4"
   ]
  },
  {
   "cell_type": "code",
   "execution_count": null,
   "metadata": {},
   "outputs": [],
   "source": []
  }
 ],
 "metadata": {
  "kernelspec": {
   "display_name": "Python 2",
   "language": "python",
   "name": "python2"
  },
  "language_info": {
   "codemirror_mode": {
    "name": "ipython",
    "version": 2
   },
   "file_extension": ".py",
   "mimetype": "text/x-python",
   "name": "python",
   "nbconvert_exporter": "python",
   "pygments_lexer": "ipython2",
   "version": "2.7.12"
  }
 },
 "nbformat": 4,
 "nbformat_minor": 2
}

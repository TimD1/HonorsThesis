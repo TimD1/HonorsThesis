{
 "cells": [
  {
   "cell_type": "code",
   "execution_count": null,
   "metadata": {},
   "outputs": [],
   "source": [
    "import keras\n",
    "keras.__version__"
   ]
  },
  {
   "cell_type": "code",
   "execution_count": null,
   "metadata": {},
   "outputs": [],
   "source": [
    "#users = [\"alex\", \"ben\", \"miao\", \"natasha\", \"nick\", \"sarah\", \"sean\", \"spencer\", \"tim\", \"yijun\"]\n",
    "users = [\"alex\"]\n",
    "#mats = [\"cloth\", \"concrete\", \"door\", \"drywall\", \"laminant\", \"whiteboard\"]\n",
    "mats = [\"cloth\"]"
   ]
  },
  {
   "cell_type": "code",
   "execution_count": null,
   "metadata": {},
   "outputs": [],
   "source": [
    "%matplotlib inline\n",
    "from matplotlib import pyplot as plt\n",
    "import os\n",
    "import cv2\n",
    "import numpy as np\n",
    "from keras.preprocessing.image import img_to_array, load_img\n",
    "\n",
    "# grab all training file names, count total\n",
    "files = []\n",
    "for user in users:\n",
    "    for mat in mats:\n",
    "        images = [f for f in os.listdir(\"data/\"+user+\"/frames/\") if mat in f]\n",
    "        files.extend(images)\n",
    "print \"Frames found:\", len(files)\n",
    "\n",
    "# create single arrays to store data\n",
    "X = np.ndarray(shape=(len(files), 256, 256), dtype=np.float32)\n",
    "y = np.ndarray(shape=(len(files), 1), dtype=np.float32)\n",
    "\n",
    "# load in all data from images into normalized array\n",
    "i = 0\n",
    "for user in users:\n",
    "    print \"  Loading data for\", user\n",
    "    for mat in mats:\n",
    "        files = [f for f in os.listdir(\"data/\"+user+\"/frames/\") if mat in f]\n",
    "        for f in files:\n",
    "            x = cv2.imread(\"data/\"+user+\"/frames/\"+f, cv2.IMREAD_GRAYSCALE)\n",
    "            x = (x - 128.0) / 128.0\n",
    "            X[i] = x\n",
    "            y[i] = float(\"hard\" in f)\n",
    "            i += 1\n",
    "    print \"    Loading\", mat, \"data complete\"\n",
    "print \"All images converted to array!\""
   ]
  },
  {
   "cell_type": "code",
   "execution_count": null,
   "metadata": {},
   "outputs": [],
   "source": [
    "X"
   ]
  },
  {
   "cell_type": "code",
   "execution_count": null,
   "metadata": {},
   "outputs": [],
   "source": [
    "from sklearn.model_selection import train_test_split\n",
    "X_train, X_test, y_train, y_test = train_test_split(\n",
    "    X, y, test_size=0.2, random_state=7)\n",
    "X_train = X_train.reshape((X_train.shape[0], 256, 256, 1))\n",
    "X_test = X_test.reshape((X_test.shape[0], 256, 256, 1))"
   ]
  },
  {
   "cell_type": "markdown",
   "metadata": {},
   "source": [
    "## Define CNN Architecture"
   ]
  },
  {
   "cell_type": "code",
   "execution_count": null,
   "metadata": {},
   "outputs": [],
   "source": [
    "from keras import layers, models\n",
    "\n",
    "# CNN: convolution and pooling\n",
    "model = models.Sequential()\n",
    "model.add(layers.Conv2D(8, (5, 5), activation='relu', padding='same', input_shape=(256, 256, 1)))\n",
    "model.add(layers.MaxPooling2D((2, 2)))\n",
    "model.add(layers.Dropout(0.25))\n",
    "model.add(layers.Conv2D(16, (5, 5), activation='relu', padding='same'))\n",
    "model.add(layers.MaxPooling2D((2, 2)))\n",
    "model.add(layers.Dropout(0.25))\n",
    "model.add(layers.Conv2D(32, (5, 5), activation='relu', padding='same'))\n",
    "model.add(layers.MaxPooling2D((2, 2)))\n",
    "\n",
    "# fully connected\n",
    "model.add(layers.Flatten())\n",
    "model.add(layers.Dense(128, activation='relu'))\n",
    "model.add(layers.Dense(1, activation='sigmoid'))\n",
    "model.summary()"
   ]
  },
  {
   "cell_type": "code",
   "execution_count": null,
   "metadata": {},
   "outputs": [],
   "source": [
    "batch_size = 100\n",
    "epochs = 50\n",
    "\n",
    "model.compile(loss='binary_crossentropy',\n",
    "              optimizer='sgd',\n",
    "              metrics=['accuracy'])\n",
    "\n",
    "model.fit(X_train, y_train,\n",
    "          batch_size=batch_size,\n",
    "          epochs=epochs,\n",
    "          verbose=1\n",
    "          )"
   ]
  },
  {
   "cell_type": "code",
   "execution_count": null,
   "metadata": {},
   "outputs": [],
   "source": [
    "test_loss, test_acc = model.evaluate(X_test, y_test)\n",
    "\n",
    "print('Test loss:', test_loss)\n",
    "print('Test accuracy:', test_acc)"
   ]
  },
  {
   "cell_type": "code",
   "execution_count": null,
   "metadata": {},
   "outputs": [],
   "source": [
    "from keras.preprocessing import ImageDataGenerator as IDG\n",
    "#IDG.apply_transform()\n",
    "x"
   ]
  },
  {
   "cell_type": "code",
   "execution_count": null,
   "metadata": {},
   "outputs": [],
   "source": []
  },
  {
   "cell_type": "code",
   "execution_count": null,
   "metadata": {},
   "outputs": [],
   "source": []
  },
  {
   "cell_type": "code",
   "execution_count": null,
   "metadata": {},
   "outputs": [],
   "source": [
    "x = 3"
   ]
  },
  {
   "cell_type": "code",
   "execution_count": null,
   "metadata": {},
   "outputs": [],
   "source": [
    "x"
   ]
  },
  {
   "cell_type": "code",
   "execution_count": null,
   "metadata": {},
   "outputs": [],
   "source": []
  }
 ],
 "metadata": {
  "kernelspec": {
   "display_name": "Python 2",
   "language": "python",
   "name": "python2"
  },
  "language_info": {
   "codemirror_mode": {
    "name": "ipython",
    "version": 2
   },
   "file_extension": ".py",
   "mimetype": "text/x-python",
   "name": "python",
   "nbconvert_exporter": "python",
   "pygments_lexer": "ipython2",
   "version": "2.7.12"
  }
 },
 "nbformat": 4,
 "nbformat_minor": 2
}

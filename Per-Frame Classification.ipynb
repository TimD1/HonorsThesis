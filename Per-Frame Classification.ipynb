{
 "cells": [
  {
   "cell_type": "code",
   "execution_count": null,
   "metadata": {},
   "outputs": [],
   "source": [
    "import keras\n",
    "keras.__version__"
   ]
  },
  {
   "cell_type": "code",
   "execution_count": null,
   "metadata": {},
   "outputs": [],
   "source": [
    "#users = [\"alex\", \"ben\", \"miao\", \"natasha\", \"nick\", \"sarah\", \"sean\", \"spencer\", \"tim\", \"yijun\"]\n",
    "users = [\"alex\"]\n",
    "#mats = [\"cloth\", \"concrete\", \"door\", \"drywall\", \"laminant\", \"whiteboard\"]\n",
    "mats = [\"cloth\"]"
   ]
  },
  {
   "cell_type": "code",
   "execution_count": null,
   "metadata": {},
   "outputs": [],
   "source": [
    "%matplotlib inline\n",
    "from matplotlib import pyplot as plt\n",
    "import os\n",
    "import cv2\n",
    "import numpy as np\n",
    "from keras.preprocessing.image import img_to_array, load_img\n",
    "\n",
    "# grab all training file names, count total\n",
    "files = []\n",
    "for user in users:\n",
    "    for mat in mats:\n",
    "        images = [f for f in os.listdir(\"data/\"+user+\"/frames/\") if mat in f]\n",
    "        files.extend(images)\n",
    "print \"Frames found:\", len(files)\n",
    "\n",
    "# create single arrays to store data\n",
    "X = np.ndarray(shape=(len(files), 224, 224), dtype=np.float32)\n",
    "y = np.ndarray(shape=(len(files), 1), dtype=np.float32)\n",
    "\n",
    "# load in all data from images into normalized array\n",
    "n = 0\n",
    "for user in users:\n",
    "    print \"  Loading data for\", user\n",
    "    for mat in mats:\n",
    "        files = [f for f in os.listdir(\"data/\"+user+\"/frames/\") if mat in f]\n",
    "        for f in files:\n",
    "            x = cv2.imread(\"data/\"+user+\"/frames/\"+f, cv2.IMREAD_GRAYSCALE)\n",
    "            x = (x - 128.0) / 128.0\n",
    "            X[n] = x[16:240,16:240]\n",
    "            y[n] = float(\"hard\" in f)\n",
    "            n += 1\n",
    "    print \"    Loading\", mat, \"data complete\"\n",
    "print \"All images converted to array!\""
   ]
  },
  {
   "cell_type": "code",
   "execution_count": null,
   "metadata": {},
   "outputs": [],
   "source": [
    "from sklearn.model_selection import train_test_split\n",
    "X_train, X_test, y_train, y_test = train_test_split(\n",
    "    X, y, test_size=0.2, random_state=7)"
   ]
  },
  {
   "cell_type": "code",
   "execution_count": null,
   "metadata": {},
   "outputs": [],
   "source": [
    "np.stack((X_train[i],)*3, axis=-1).reshape(224,224,3,1).shape"
   ]
  },
  {
   "cell_type": "markdown",
   "metadata": {},
   "source": [
    "## Define CNN Architecture"
   ]
  },
  {
   "cell_type": "code",
   "execution_count": null,
   "metadata": {},
   "outputs": [],
   "source": [
    "from keras import layers, models\n",
    "\n",
    "# CNN: convolution and pooling\n",
    "model = models.Sequential()\n",
    "model.add(layers.Conv2D(8, (3,3), activation='relu', padding='same', input_shape=(256, 256, 1)))\n",
    "model.add(layers.Conv2D(8, (3,3), activation='relu', padding='same'))\n",
    "model.add(layers.MaxPooling2D((2, 2)))\n",
    "model.add(layers.Dropout(0.25))\n",
    "model.add(layers.Conv2D(16, (3,3), activation='relu', padding='same'))\n",
    "model.add(layers.Conv2D(16, (3,3), activation='relu', padding='same'))\n",
    "model.add(layers.MaxPooling2D((2, 2)))\n",
    "model.add(layers.Dropout(0.25))\n",
    "model.add(layers.Conv2D(32, (3,3), activation='relu', padding='same'))\n",
    "model.add(layers.Conv2D(32, (3,3), activation='relu', padding='same'))\n",
    "model.add(layers.MaxPooling2D((2, 2)))\n",
    "model.add(layers.Dropout(0.25))\n",
    "model.add(layers.Conv2D(64, (3,3), activation='relu', padding='same'))\n",
    "model.add(layers.Conv2D(64, (3,3), activation='relu', padding='same'))\n",
    "model.add(layers.MaxPooling2D((2, 2)))\n",
    "model.add(layers.Dropout(0.25))\n",
    "model.add(layers.Conv2D(128, (3,3), activation='relu', padding='same'))\n",
    "model.add(layers.Conv2D(128, (3,3), activation='relu', padding='same'))\n",
    "model.add(layers.MaxPooling2D((2, 2)))\n",
    "\n",
    "# fully connected\n",
    "model.add(layers.Flatten())\n",
    "model.add(layers.Dense(256, activation='relu'))\n",
    "model.add(layers.Dense(1, activation='sigmoid'))\n",
    "model.summary()"
   ]
  },
  {
   "cell_type": "code",
   "execution_count": null,
   "metadata": {},
   "outputs": [],
   "source": [
    "batch_size = 100\n",
    "epochs = 50\n",
    "\n",
    "model.compile(loss='binary_crossentropy',\n",
    "              optimizer='sgd',\n",
    "              metrics=['accuracy'])\n",
    "\n",
    "model.fit(X_train, y_train,\n",
    "          batch_size=batch_size,\n",
    "          epochs=epochs,\n",
    "          verbose=1\n",
    "          )"
   ]
  },
  {
   "cell_type": "code",
   "execution_count": null,
   "metadata": {},
   "outputs": [],
   "source": [
    "test_loss, test_acc = model.evaluate(X_test, y_test)\n",
    "\n",
    "print('Test loss:', test_loss)\n",
    "print('Test accuracy:', test_acc)"
   ]
  },
  {
   "cell_type": "markdown",
   "metadata": {},
   "source": [
    "## Use VGG"
   ]
  },
  {
   "cell_type": "code",
   "execution_count": null,
   "metadata": {},
   "outputs": [],
   "source": [
    "from keras.applications import VGG16\n",
    "\n",
    "vgg = VGG16(weights='imagenet',\n",
    "           include_top=False,\n",
    "           input_shape=(224,224,3))\n",
    "\n",
    "# feed each image through VGG and obtain 7*7*512 features\n",
    "X_train_feat = np.zeros(shape=(X_train.shape[0],7,7,512))\n",
    "for i in range(X_train.shape[0]):\n",
    "    X_train_feat[i] = vgg.predict(np.stack((X_train[i],)*3, axis=-1).reshape(1,224,224,3))\n",
    "X_train_feat = np.reshape(X_train_feat, (X_train.shape[0], 7*7*512))"
   ]
  },
  {
   "cell_type": "code",
   "execution_count": null,
   "metadata": {},
   "outputs": [],
   "source": [
    "# fully connected\n",
    "model = models.Sequential()\n",
    "model.add(layers.Dense(256, activation='relu', input_dim=7*7*512))\n",
    "model.add(layers.Dropout(0.5))\n",
    "model.add(layers.Dense(1, activation='sigmoid'))\n",
    "\n",
    "batch_size = 100\n",
    "epochs = 50\n",
    "\n",
    "model.compile(loss='binary_crossentropy',\n",
    "              optimizer='sgd',\n",
    "              metrics=['accuracy'])\n",
    "\n",
    "model.fit(X_train_feat, y_train,\n",
    "          batch_size=batch_size,\n",
    "          epochs=epochs,\n",
    "          verbose=1\n",
    "          )"
   ]
  },
  {
   "cell_type": "code",
   "execution_count": null,
   "metadata": {},
   "outputs": [],
   "source": [
    "# calculate features for test data\n",
    "X_test_feat = np.zeros(shape=(X_test.shape[0],7,7,512))\n",
    "for i in range(X_test.shape[0]):\n",
    "    X_test_feat[i] = vgg.predict(np.stack((X_test[i],)*3, axis=-1).reshape(1,224,224,3))\n",
    "X_test_feat = np.reshape(X_test_feat, (X_test.shape[0], 7*7*512))\n",
    "\n",
    "test_loss, test_acc = model.evaluate(X_test_feat, y_test)\n",
    "\n",
    "print('Test loss:', test_loss)\n",
    "print('Test accuracy:', test_acc)"
   ]
  },
  {
   "cell_type": "code",
   "execution_count": null,
   "metadata": {},
   "outputs": [],
   "source": []
  }
 ],
 "metadata": {
  "kernelspec": {
   "display_name": "Python 2",
   "language": "python",
   "name": "python2"
  },
  "language_info": {
   "codemirror_mode": {
    "name": "ipython",
    "version": 2
   },
   "file_extension": ".py",
   "mimetype": "text/x-python",
   "name": "python",
   "nbconvert_exporter": "python",
   "pygments_lexer": "ipython2",
   "version": "2.7.12"
  }
 },
 "nbformat": 4,
 "nbformat_minor": 2
}
